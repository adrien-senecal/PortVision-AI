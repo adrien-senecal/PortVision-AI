{
 "cells": [
  {
   "cell_type": "code",
   "execution_count": null,
   "id": "fac97f8e",
   "metadata": {},
   "outputs": [],
   "source": [
    "import pandas as pd\n",
    "import matplotlib.pyplot as plt\n",
    "import seaborn as sns\n",
    "from pathlib import Path\n",
    "import os\n",
    "from load_dotenv import load_dotenv"
   ]
  },
  {
   "cell_type": "code",
   "execution_count": null,
   "id": "1e028037",
   "metadata": {},
   "outputs": [],
   "source": [
    "load_dotenv()\n",
    "DOTA_DIR = Path(os.getenv(\"DOTA_DIR\"))\n",
    "detection_dir = DOTA_DIR / \"predictions\"\n",
    "CSV_PATH = detection_dir / \"detections_zone2.csv\"\n",
    "CONF_TH  = 0.05  # seuil de confiance principal"
   ]
  },
  {
   "cell_type": "code",
   "execution_count": null,
   "id": "b9bd4a1d",
   "metadata": {},
   "outputs": [],
   "source": [
    "CLASS_MAP = {\n",
    "    9: \"large vehicle\",\n",
    "    10: \"small vehicle\"\n",
    "}"
   ]
  },
  {
   "cell_type": "code",
   "execution_count": null,
   "id": "4bce9611",
   "metadata": {},
   "outputs": [],
   "source": [
    "df = pd.read_csv(CSV_PATH)\n",
    "# Nettoyage minimal / types\n",
    "cols = [\"x1\", \"y1\", \"x2\", \"y2\", \"conf\", \"class\"]\n",
    "df = df[cols].copy()\n",
    "df[[\"x1\",\"y1\",\"x2\",\"y2\",\"conf\"]] = df[[\"x1\",\"y1\",\"x2\",\"y2\",\"conf\"]].apply(pd.to_numeric, errors=\"coerce\")\n",
    "df[\"class\"] = pd.to_numeric(df[\"class\"], errors=\"coerce\").astype(\"Int64\")\n",
    "df = df.dropna(subset=[\"x1\",\"y1\",\"x2\",\"y2\",\"conf\",\"class\"])\n",
    "df[\"class_name\"] = df[\"class\"].map(CLASS_MAP)"
   ]
  },
  {
   "cell_type": "code",
   "execution_count": null,
   "id": "3c26bfd8",
   "metadata": {},
   "outputs": [],
   "source": [
    "# 1. Statistiques de base\n",
    "print(\"=== Statistiques générales ===\")\n",
    "print(f\"Nombre total de détections: {len(df)}\")\n",
    "print(f\"Nombre de classes uniques: {df['class'].nunique()}\")\n",
    "print(\"\\nRépartition par classe:\")\n",
    "print(df['class_name'].value_counts())"
   ]
  },
  {
   "cell_type": "code",
   "execution_count": null,
   "id": "3322c49c",
   "metadata": {},
   "outputs": [],
   "source": [
    "# 2. Statistiques sur les coordonnées des boxes\n",
    "print(\"\\n=== Statistiques sur les coordonnées ===\")\n",
    "print(df[['x1', 'y1', 'x2', 'y2']].describe())\n",
    "\n",
    "# 3. Statistiques sur la confiance\n",
    "print(\"\\n=== Statistiques sur la confiance ===\")\n",
    "print(df['conf'].describe())"
   ]
  },
  {
   "cell_type": "code",
   "execution_count": null,
   "id": "fc5f235a",
   "metadata": {},
   "outputs": [],
   "source": [
    "# 4. Calcul de la taille des boxes (largeur et hauteur)\n",
    "df['width'] = df['x2'] - df['x1']\n",
    "df['height'] = df['y2'] - df['y1']\n",
    "df['area'] = df['width'] * df['height']\n",
    "\n",
    "print(\"\\n=== Statistiques sur la taille des boxes ===\")\n",
    "print(df[['width', 'height', 'area']].describe())"
   ]
  },
  {
   "cell_type": "code",
   "execution_count": null,
   "id": "0606ee6e",
   "metadata": {},
   "outputs": [],
   "source": [
    "# 5. Visualisations\n",
    "plt.figure(figsize=(15, 10))\n",
    "\n",
    "# Histogramme des confiances\n",
    "plt.subplot(2, 2, 1)\n",
    "sns.histplot(df['conf'], bins=30, kde=True)\n",
    "plt.title('Distribution des scores de confiance')\n",
    "plt.xlabel('Confiance')\n",
    "\n",
    "# Boxplot des tailles par classe\n",
    "plt.subplot(2, 2, 2)\n",
    "sns.boxplot(x='class_name', y='area', data=df)\n",
    "plt.title('Distribution de la taille des boxes par classe')\n",
    "plt.yscale('log')  # Échelle logarithmique car les tailles peuvent varier beaucoup\n",
    "\n",
    "# Scatter plot des positions (échantillon pour éviter la surcharge)\n",
    "plt.subplot(2, 2, 3)\n",
    "sample_df = df.sample(min(1000, len(df)))  # Prendre max 1000 points\n",
    "sns.scatterplot(x='x1', y='y1', hue='class', data=sample_df, alpha=0.6)\n",
    "plt.title('Position des détections (échantillon)')\n",
    "plt.gca().invert_yaxis()  # Les images ont souvent y=0 en haut\n",
    "\n",
    "# Distribution des rapports largeur/hauteur\n",
    "plt.subplot(2, 2, 4)\n",
    "df['aspect_ratio'] = df['width'] / df['height']\n",
    "sns.histplot(df['aspect_ratio'], bins=30)\n",
    "plt.title('Distribution du rapport largeur/hauteur')\n",
    "plt.xlim(0, 5)  # Limiter pour éviter les valeurs extrêmes\n",
    "\n",
    "plt.tight_layout()\n",
    "plt.show()"
   ]
  },
  {
   "cell_type": "code",
   "execution_count": null,
   "id": "5a61869c",
   "metadata": {},
   "outputs": [],
   "source": [
    "# 6. Statistiques par classe\n",
    "print(\"\\n=== Statistiques par classe ===\")\n",
    "for cls in df['class_name'].unique():\n",
    "    cls_df = df[df['class_name'] == cls]\n",
    "    print(f\"\\nClasse {cls}:\")\n",
    "    print(f\"- Nombre de détections: {len(cls_df)}\")\n",
    "    print(f\"- Confiance moyenne: {cls_df['conf'].mean():.3f}\")\n",
    "    print(f\"- Taille moyenne (LxH): {cls_df['width'].mean():.1f}x{cls_df['height'].mean():.1f}\")\n",
    "    print(f\"- Aire moyenne: {cls_df['area'].mean():.1f}\")\n",
    "\n",
    "# 7. Détection des valeurs aberrantes\n",
    "print(\"\\n=== Valeurs aberrantes potentielles ===\")\n",
    "# Boxes très grandes (peut-être des erreurs de détection)\n",
    "large_boxes = df[df['area'] > df['area'].quantile(0.99)]\n",
    "print(f\"Boxes très grandes (>99ème percentile): {len(large_boxes)}\")\n",
    "print(large_boxes[['x1', 'y1', 'x2', 'y2', 'area', 'conf', 'class']].head())\n",
    "\n",
    "# Boxes avec très faible confiance\n",
    "low_conf = df[df['conf'] < 0.1]\n",
    "print(f\"\\nDétections à très faible confiance (<0.1): {len(low_conf)} ({len(low_conf)/len(df)*100:.1f}%)\")"
   ]
  }
 ],
 "metadata": {
  "kernelspec": {
   "display_name": ".venv",
   "language": "python",
   "name": "python3"
  },
  "language_info": {
   "codemirror_mode": {
    "name": "ipython",
    "version": 3
   },
   "file_extension": ".py",
   "mimetype": "text/x-python",
   "name": "python",
   "nbconvert_exporter": "python",
   "pygments_lexer": "ipython3",
   "version": "3.13.0"
  }
 },
 "nbformat": 4,
 "nbformat_minor": 5
}
